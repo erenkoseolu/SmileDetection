{
 "cells": [
  {
   "cell_type": "code",
   "execution_count": 1,
   "metadata": {},
   "outputs": [],
   "source": [
    "#Smile detection on Videos\n",
    "\n",
    "import cv2\n",
    "vid=cv2.VideoCapture(0)\n",
    "cascadeface=cv2.CascadeClassifier(\"face.xml\") #Önce yüzü algılayıp sonra smile'ı algılamak istedik.Hata oranı daha az olsun diye\n",
    "cascadesmile=cv2.CascadeClassifier(\"smile.xml\")"
   ]
  },
  {
   "cell_type": "code",
   "execution_count": 2,
   "metadata": {},
   "outputs": [],
   "source": [
    "while True:\n",
    "    ret,frame=vid.read()\n",
    "    frame=cv2.flip(frame,1)\n",
    "    gray=cv2.cvtColor(frame, cv2.COLOR_BGR2GRAY)\n",
    "    faces=cascadeface.detectMultiScale(gray, 1.3, 5)\n",
    "    \n",
    "    for (x,y,w,h) in faces:\n",
    "        cv2.rectangle(frame,(x,y),(x+w,y+h), (255,0,0), 2)\n",
    "        roi_frame= frame[y:y+h, x:x+w]\n",
    "        roi_gray= gray[y:y+h, x:x+w]\n",
    "    \n",
    "        smiles=cascadesmile.detectMultiScale(roi_gray, 1.7, 9)\n",
    "        for (sx,sy,sw,sh) in smiles:\n",
    "            cv2.rectangle(roi_frame,(sx,sy),(sx+sw,sy+sh), (0,0,255), 2)\n",
    "    \n",
    "    cv2.imshow(\"ImageSmile\",frame)\n",
    "    if cv2.waitKey(5) & 0xFF == ord(\"q\"):\n",
    "        break\n",
    "vid.release()\n",
    "cv2.destroyAllWindows()"
   ]
  }
 ],
 "metadata": {
  "kernelspec": {
   "display_name": "Python 3",
   "language": "python",
   "name": "python3"
  },
  "language_info": {
   "codemirror_mode": {
    "name": "ipython",
    "version": 3
   },
   "file_extension": ".py",
   "mimetype": "text/x-python",
   "name": "python",
   "nbconvert_exporter": "python",
   "pygments_lexer": "ipython3",
   "version": "3.8.5"
  }
 },
 "nbformat": 4,
 "nbformat_minor": 4
}
